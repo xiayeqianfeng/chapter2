{
 "cells": [
  {
   "cell_type": "markdown",
   "metadata": {},
   "source": [
    "### 下面代码描述了将数据集随机分成训练集合测试集的过程"
   ]
  },
  {
   "cell_type": "code",
   "execution_count": null,
   "metadata": {
    "collapsed": true
   },
   "outputs": [],
   "source": [
    "import math"
   ]
  },
  {
   "cell_type": "code",
   "execution_count": 1,
   "metadata": {
    "collapsed": true
   },
   "outputs": [],
   "source": [
    "def SpiltData(data,M,seed):\n",
    "    test=[]\n",
    "    train=[]\n",
    "    random.seed(seed)\n",
    "    for user,item in data:\n",
    "        if random.randint(0,M)==k:\n",
    "            test.append([user,item])\n",
    "        else:\n",
    "            train.append([user,item])\n",
    "    return train,test"
   ]
  },
  {
   "cell_type": "markdown",
   "metadata": {},
   "source": [
    "### 评测指标 召回率、准确率、覆盖率"
   ]
  },
  {
   "cell_type": "code",
   "execution_count": 7,
   "metadata": {
    "collapsed": false
   },
   "outputs": [],
   "source": [
    "def Recall(train,test,N):\n",
    "    hit=0\n",
    "    all=0\n",
    "    for user in train.keys():\n",
    "        tu=test(user)\n",
    "        rank=GetRecommendation(user,N)\n",
    "        for item,pui in rank:\n",
    "            if item in tu:\n",
    "                hit+=1\n",
    "            all+=len(tu)\n",
    "    return hit/(all*1.0)\n",
    "\n",
    "def Precision(train,test,N):\n",
    "    hit=0\n",
    "    all=0\n",
    "    for user in train.keys():\n",
    "        tu=test(user)\n",
    "        rank=GetRecommendation(user,N)\n",
    "        for item,pui in rank:\n",
    "            if item in tu:\n",
    "                hit+=1\n",
    "        all+=N\n",
    "    return hit/(all*1.0)\n",
    "\n",
    "def Coverage(train,test,N):\n",
    "    recommend_items=set()\n",
    "    all_items=set()\n",
    "    for user in train.keys():\n",
    "        for item in train[user].keys():\n",
    "            all_items.add(item)\n",
    "        rank=GetRecommendation(user,N)\n",
    "        for item,pui in rank:\n",
    "            recommend_items.add(item)\n",
    "    return len(recommend_items)/(len(all_items)*1.0)\n",
    "\n",
    "def Popularity(train,test,N):\n",
    "    item_popularity=dict()\n",
    "    for user,items in train.items():\n",
    "        for item in items.keys():\n",
    "            if item not in item_popularity:\n",
    "                item_popularity[item]=0\n",
    "            item_popularity[item]+=1\n",
    "    ret=0\n",
    "    n=0\n",
    "    for user in train.keys():\n",
    "        rank=GetRecommendation(user,N)\n",
    "        for item,pui in rank:\n",
    "            ret+=math.log(1+item_popularity[item])\n",
    "            n+=1;\n",
    "    ret/=n*1.0\n",
    "    return ret\n"
   ]
  },
  {
   "cell_type": "markdown",
   "metadata": {},
   "source": [
    "### 基于用户的协同过滤算法"
   ]
  },
  {
   "cell_type": "code",
   "execution_count": 8,
   "metadata": {
    "collapsed": true
   },
   "outputs": [],
   "source": [
    "#基本算法，算法复杂度为O（u*u）\n",
    "def UserSimilarity1(trian):\n",
    "    W=dict()\n",
    "    for u in train.keys():\n",
    "        for v in train.keys():\n",
    "            if u==v:\n",
    "                continue\n",
    "            W[u][v]=len(train[u]&train[v])\n",
    "            W[u][v]/=math.sqrt(len(train[u])*len(train[v]*1.0))\n",
    "    return W\n",
    "\n",
    "def UserSimilarity2(train):\n",
    "    #build inverse table for item_users\n",
    "    item_users=dict()\n",
    "    for u,items in train.items():\n",
    "        for i in items.keys():\n",
    "            if i not in item_users:\n",
    "                item_users[i]=set()\n",
    "            item_users[i].add(u)\n",
    "    calculate co-rated items between users\n",
    "    C=dict()\n",
    "    N=dict()\n",
    "    for i,users in item_users.items():\n",
    "        for u in users:\n",
    "            N[u]+=1\n",
    "            for v in users:\n",
    "                if u==v:\n",
    "                    continue\n",
    "                C[u][v]+=1\n",
    "    #calculate finial similarity matrix W\n",
    "    W=dict()\n",
    "    for u,related_users in C.items():\n",
    "        for v,cuv in related_users.items():\n",
    "            W[u][v]=cuv/math.sqrt(N[u]*N[v])\n",
    "    return W\n",
    "                    "
   ]
  },
  {
   "cell_type": "markdown",
   "metadata": {},
   "source": [
    "### 推荐算法"
   ]
  },
  {
   "cell_type": "code",
   "execution_count": null,
   "metadata": {
    "collapsed": true
   },
   "outputs": [],
   "source": [
    "def Recommend(user,train,W):\n",
    "    rank=dict()\n",
    "    interactes_items=trian[user]\n",
    "    for v,wuv in sorted(W[u].items,key=itemgetter(1),reverse=True)[0:K]:\n",
    "        for i,rvi in train[v].items:\n",
    "            if i in interactes_items:\n",
    "                #we should filter items user interacted before\n",
    "                continue\n",
    "            rank[i]+=wuv*rvi\n",
    "    return rank"
   ]
  }
 ],
 "metadata": {
  "kernelspec": {
   "display_name": "Python 3",
   "language": "python",
   "name": "python3"
  },
  "language_info": {
   "codemirror_mode": {
    "name": "ipython",
    "version": 3
   },
   "file_extension": ".py",
   "mimetype": "text/x-python",
   "name": "python",
   "nbconvert_exporter": "python",
   "pygments_lexer": "ipython3",
   "version": "3.4.4"
  }
 },
 "nbformat": 4,
 "nbformat_minor": 2
}
